{
 "cells": [
  {
   "cell_type": "markdown",
   "metadata": {},
   "source": [
    "\n",
    "Faça um programa para imprimir:\n",
    "para um n informado pelo usuário. Use uma função que receba um valor n inteiro e imprima \n",
    "até a n-ésima linha."
   ]
  },
  {
   "cell_type": "code",
   "execution_count": 67,
   "metadata": {},
   "outputs": [
    {
     "name": "stdout",
     "output_type": "stream",
     "text": [
      "1\n",
      "22\n",
      "333\n"
     ]
    }
   ],
   "source": [
    "def num1(n):\n",
    "    for i in range(n):\n",
    "        i+=1\n",
    "        print(str( i )*i)\n",
    "n=int(input('Digite um numero'))\n",
    "num1(n)"
   ]
  },
  {
   "cell_type": "markdown",
   "metadata": {},
   "source": [
    "Faça um programa, com uma função que necessite de três argumentos, e que forneça a soma \n",
    "desses três argumentos."
   ]
  },
  {
   "cell_type": "code",
   "execution_count": 68,
   "metadata": {},
   "outputs": [
    {
     "name": "stdout",
     "output_type": "stream",
     "text": [
      "A soma é : 8\n"
     ]
    }
   ],
   "source": [
    "def soma_3(Nu1,Nu2,Nu3):\n",
    "    return(Nu1+Nu2+Nu3)\n",
    "Nu1=int(input('Informe um numero : '))\n",
    "Nu2=int(input('Informe um Segundo numero: '))\n",
    "Nu3=int(input('Informe um Terceiro numero: '))\n",
    "print('A soma é :',soma_3(Nu1,Nu2,Nu3))\n",
    "\n"
   ]
  },
  {
   "cell_type": "code",
   "execution_count": 106,
   "metadata": {},
   "outputs": [
    {
     "name": "stdout",
     "output_type": "stream",
     "text": [
      "arquivos gerados com sucesso!\n"
     ]
    }
   ],
   "source": [
    "import os\n",
    "\n",
    "def ip_validos(ip_string):\n",
    "    partes=ip_string.split('.')\n",
    "    if len(partes)!=4:\n",
    "        return False\n",
    "    for parte in partes:\n",
    "        if not parte.isdigit():\n",
    "            return False\n",
    "        parte_integer=int(parte)\n",
    "        if parte_integer <0 or parte_integer >255:\n",
    "          return False\n",
    "    return True\n",
    "if os.path.exists(\"entrada.txt\"):\n",
    "    ips=open(\"entrada.txt\",\"r\")\n",
    "    lista_ips=ips.read().split(\"\\n\")\n",
    "  \n",
    "    validos=[]\n",
    "    invalido=[]\n",
    "    \n",
    "    for ip in lista_ips:\n",
    "        if ip_validos(ip)==True:\n",
    "            \n",
    "            validos.append(ip)\n",
    "        else:\n",
    "            invalido.append(ip)\n",
    "            \n",
    "    if len(validos)>0 or len(invalido)>0:\n",
    "        arquivo_relatorio=open('resposta.txt',\"wt\")\n",
    "        if len(validos)>0 :\n",
    "            arquivo_relatorio.write(\"\\n[Endereço validos:]\\n\")\n",
    "            for valido in validos:\n",
    "                arquivo_relatorio.write(valido+\"\\n\")\n",
    "        if len(invalido) > 0 :\n",
    "            arquivo_relatorio.write(\"\\n[Endereço invalidos:]\\n\")\n",
    "            for valido in validos:\n",
    "                arquivo_relatorio.write(valido+\"\\n\")\n",
    "\n",
    "arquivo_relatorio.close()\n",
    "\n",
    "print ('arquivos gerados com sucesso!')"
   ]
  },
  {
   "cell_type": "code",
   "execution_count": null,
   "metadata": {},
   "outputs": [],
   "source": []
  }
 ],
 "metadata": {
  "kernelspec": {
   "display_name": "Python 3.10.4 64-bit",
   "language": "python",
   "name": "python3"
  },
  "language_info": {
   "codemirror_mode": {
    "name": "ipython",
    "version": 3
   },
   "file_extension": ".py",
   "mimetype": "text/x-python",
   "name": "python",
   "nbconvert_exporter": "python",
   "pygments_lexer": "ipython3",
   "version": "3.10.4"
  },
  "orig_nbformat": 4,
  "vscode": {
   "interpreter": {
    "hash": "edf259275ad4a72d4dd5b452264ad5fb2b635233dff2a31edc6ebc740e55e21b"
   }
  }
 },
 "nbformat": 4,
 "nbformat_minor": 2
}
