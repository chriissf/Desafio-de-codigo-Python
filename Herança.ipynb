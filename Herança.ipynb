{
  "nbformat": 4,
  "nbformat_minor": 0,
  "metadata": {
    "colab": {
      "name": "Untitled9.ipynb",
      "provenance": [],
      "collapsed_sections": []
    },
    "kernelspec": {
      "name": "python3",
      "display_name": "Python 3"
    },
    "language_info": {
      "name": "python"
    }
  },
  "cells": [
    {
      "cell_type": "markdown",
      "source": [
        "A. Atributos tipo String não podem receber valores None ou String vazia\n",
        "\n",
        "B. Implementar Construtor(__init__) que recebe valores para todos os atributos da classe \n",
        "\n",
        "\n",
        "C. Implementar um main que criado is objetos:\n",
        "\n",
        "\n",
        "um do tipo Cachorro e outro do tipo Cachorro Adestrado.Ao final,deve-se imprimir os dadosdos objetos criados fazendo chamadas ao método__str__ **negrito**"
      ],
      "metadata": {
        "id": "MgXI-sW_CtyP"
      }
    },
    {
      "cell_type": "code",
      "source": [
        "class Cachorro():\n",
        "\n",
        "  def __init__(self,nome,raca):\n",
        "    self.__nome = nome\n",
        "    self.__raca = raca\n",
        "    \n",
        "  def setNome(self,valor):\n",
        "    self.__nome= valor\n",
        "\n",
        "  def getNome(self):\n",
        "    return self.__nome\n",
        "\n",
        "  def setRaca(self,valor):\n",
        "    self.__raca=valor\n",
        "    \n",
        "\n",
        "  def getRaca(self):\n",
        "    return self.__raca\n",
        "\n",
        "  def latir():\n",
        "    print(\"AU AU\")\n",
        "  \n",
        "  def Comer():\n",
        "    print(\"Cachorro comendo \")\n",
        "  \n",
        "  def __str__(self):\n",
        "    return \"Nome Cachorro : \" + self.__nome + \"A Raça: \"+self.__raca\n",
        "\n",
        "\n",
        "class Cachorro_Adrestado(Cachorro):\n",
        "  def __init__(self,nome,raca):\n",
        "    super().__init__(nome,raca)\n",
        "\n",
        "  def Deitar(self):\n",
        "    print(\"Cachorro Deitar \")\n",
        "  \n",
        "  def FingirDeMorto(self):\n",
        "    print(\"Fingir de Morto \")\n",
        "  \n",
        "  def Rolar(self):\n",
        "    print(\"Rolar\")\n",
        "\n",
        "\n",
        "\n",
        "Cachorro2 = Cachorro_Adrestado(\"toto\",\"bitbull\")\n",
        "\n",
        "print(Cachorro2.getNome())\n",
        "print(Cachorro2.getRaca())\n",
        "Cachorro2.Deitar()\n",
        "Cachorro2.Rolar()\n",
        "Cachorro2.FingirDeMorto()\n",
        "\n",
        "Cacho=Cachorro(\"Thor\", \"Rottweiler\")\n",
        "\n",
        "\n",
        "print(Cacho.getNome())\n",
        "print(Cacho.getRaca())\n"
      ],
      "metadata": {
        "colab": {
          "base_uri": "https://localhost:8080/"
        },
        "id": "7nFI4CjGC13I",
        "outputId": "b930072b-327c-4781-835a-08e9c40cad28"
      },
      "execution_count": 19,
      "outputs": [
        {
          "output_type": "stream",
          "name": "stdout",
          "text": [
            "toto\n",
            "bitbull\n",
            "Cachorro Deitar \n",
            "Rolar\n",
            "Fingir de Morto \n",
            "Thor\n",
            "Rottweiler\n"
          ]
        }
      ]
    }
  ]
}