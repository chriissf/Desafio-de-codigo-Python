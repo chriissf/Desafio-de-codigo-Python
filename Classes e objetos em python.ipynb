{
  "nbformat": 4,
  "nbformat_minor": 0,
  "metadata": {
    "colab": {
      "name": "Untitled8.ipynb",
      "provenance": [],
      "collapsed_sections": []
    },
    "kernelspec": {
      "name": "python3",
      "display_name": "Python 3"
    },
    "language_info": {
      "name": "python"
    }
  },
  "cells": [
    {
      "cell_type": "markdown",
      "source": [
        "Exercicio 1"
      ],
      "metadata": {
        "id": "Jj9OUp31aAkz"
      }
    },
    {
      "cell_type": "code",
      "source": [
        "class Quadrado():\n",
        "  def __init__(self, lado):\n",
        "    self.setLado(lado)\n",
        "  def setLado(self, lado):\n",
        "    self.lado = lado\n",
        "  def getLado(self):\n",
        "     return self.lado\n",
        "  def area(self):\n",
        "     return self.lado*self.lado\n",
        "     print(area)\n",
        "  def comprimento(self):\n",
        "    return self.lado*2\n",
        "    print(comprimento)\n",
        "\n",
        "\n",
        "Nu1=int(input('Digite um Lado: '))\n",
        "q=Quadrado(Nu1)\n",
        "print('A area é :',q.area(),'m²')\n",
        "print('O comprimento é : ',q.comprimento())\n",
        "\n",
        "\n"
      ],
      "metadata": {
        "colab": {
          "base_uri": "https://localhost:8080/"
        },
        "id": "UHrNB92sXzUw",
        "outputId": "4fdbd8ea-e33d-40bd-99d1-0cd23a6c7431"
      },
      "execution_count": 51,
      "outputs": [
        {
          "output_type": "stream",
          "name": "stdout",
          "text": [
            "Digite um Lado: 5\n",
            "A area é : 25 m²\n",
            "O comprimento é :  10\n"
          ]
        }
      ]
    },
    {
      "cell_type": "markdown",
      "source": [
        "**EXERCICIO 2**\n"
      ],
      "metadata": {
        "id": "x_VDMs7qiPds"
      }
    },
    {
      "cell_type": "code",
      "source": [
        ""
      ],
      "metadata": {
        "id": "juM7uFtriVZS"
      },
      "execution_count": null,
      "outputs": []
    },
    {
      "cell_type": "code",
      "source": [
        "class Retangulo():\n",
        "  def __init__(self, comprimento, largura):\n",
        "    self.setComprimento(comprimento)\n",
        "    self.setLargura(largura)\n",
        "\n",
        "  def setComprimento(self, comprimento):\n",
        "      self.comprimento = comprimento\n",
        "  def setLargura(self, largura):\n",
        "       self.largura = largura\n",
        "  def getComprimento(self):\n",
        "       return self.comprimento\n",
        "  def getLargura(self):\n",
        "      return self.largura\n",
        "  def area(self):\n",
        "      return self.comprimento * self.largura\n",
        "  def perimetro(self):\n",
        "              return (2 * self.comprimento) + (2 * self.largura)\n",
        "\n",
        "              \n",
        "comp = float(input('Informe o valor do comprimento: '))\n",
        "larg = float(input('Informe o valor da largura: '))\n",
        "\n",
        "r = Retangulo(comp,larg)\n",
        "print(\"A area é: \", r.area())\n",
        "print(\"O perimetro é: \", r.perimetro())"
      ],
      "metadata": {
        "colab": {
          "base_uri": "https://localhost:8080/"
        },
        "id": "glQGl-uvaEOg",
        "outputId": "4b97f408-70ea-44b9-8690-bba7d9809159"
      },
      "execution_count": 39,
      "outputs": [
        {
          "output_type": "stream",
          "name": "stdout",
          "text": [
            "Informe o valor do comprimento: 10\n",
            "Informe o valor da largura: 30\n",
            "A area é:  300.0\n",
            "O perimetro é:  80.0\n"
          ]
        }
      ]
    }
  ]
}